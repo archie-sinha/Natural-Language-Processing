{
  "nbformat": 4,
  "nbformat_minor": 0,
  "metadata": {
    "colab": {
      "provenance": []
    },
    "kernelspec": {
      "name": "python3",
      "display_name": "Python 3"
    },
    "language_info": {
      "name": "python"
    }
  },
  "cells": [
    {
      "cell_type": "markdown",
      "source": [
        "#**Archisha Sinha**\n",
        "#Domain: Natural Language Processings\n",
        "#Topic: Introduction to Regular Expressions (Regex)"
      ],
      "metadata": {
        "id": "aG04fNHuTLGD"
      }
    },
    {
      "cell_type": "code",
      "execution_count": 1,
      "metadata": {
        "id": "asmUAmgfn_JU"
      },
      "outputs": [],
      "source": [
        "#Importing necessary libraries\n",
        "import numpy as np\n",
        "import pandas as pd\n",
        "import re"
      ]
    },
    {
      "cell_type": "markdown",
      "source": [
        "a.\tRead all the content present inside the file"
      ],
      "metadata": {
        "id": "sLMiExsCyTjA"
      }
    },
    {
      "cell_type": "code",
      "source": [
        "file1= open(\"Hello.txt\", \"r\")\n",
        "print(file1.read())"
      ],
      "metadata": {
        "colab": {
          "base_uri": "https://localhost:8080/"
        },
        "id": "6Qg5Ag91ug7_",
        "outputId": "ac42234b-b4eb-4b2e-d74c-22167dc2a5c9"
      },
      "execution_count": null,
      "outputs": [
        {
          "output_type": "stream",
          "name": "stdout",
          "text": [
            "Hello world\n",
            "Hello Python\n",
            "Good morning\n",
            "How are you\n"
          ]
        }
      ]
    },
    {
      "cell_type": "code",
      "source": [
        "#i.\tRead only the first 5 characters of the file.\n",
        "file2= open(\"Hello.txt\", \"r\")\n",
        "print(file2.read(5))"
      ],
      "metadata": {
        "colab": {
          "base_uri": "https://localhost:8080/"
        },
        "id": "t9EwoXHfthht",
        "outputId": "1f0981d0-31cf-4102-a22b-178a08b143c1"
      },
      "execution_count": null,
      "outputs": [
        {
          "output_type": "stream",
          "name": "stdout",
          "text": [
            "Hello\n"
          ]
        }
      ]
    },
    {
      "cell_type": "code",
      "source": [
        "#ii.\tRead the content of the file on a line by line basis.\n",
        "file3= open(\"Hello.txt\", \"r\")\n",
        "for x in file3:\n",
        "  print(x)"
      ],
      "metadata": {
        "colab": {
          "base_uri": "https://localhost:8080/"
        },
        "id": "IjOAvKmowYW2",
        "outputId": "7d1935a2-0f90-4ce1-8952-8bb27c52ec07"
      },
      "execution_count": null,
      "outputs": [
        {
          "output_type": "stream",
          "name": "stdout",
          "text": [
            "Hello world\n",
            "\n",
            "Hello Python\n",
            "\n",
            "Good morning\n",
            "\n",
            "How are you\n"
          ]
        }
      ]
    },
    {
      "cell_type": "code",
      "source": [
        "#iii.\tRead all the lines present inside the text file including the newline characters.\n",
        "file4= open(\"Hello.txt\", \"r\")\n",
        "print(file4.read(),\"\\n\")"
      ],
      "metadata": {
        "colab": {
          "base_uri": "https://localhost:8080/"
        },
        "id": "rEsZ06OMvPTx",
        "outputId": "7387e408-de20-40d8-da29-de8a9aaf85d8"
      },
      "execution_count": null,
      "outputs": [
        {
          "output_type": "stream",
          "name": "stdout",
          "text": [
            "Hello world\n",
            "Hello Python\n",
            "Good morning\n",
            "How are you \n",
            "\n"
          ]
        }
      ]
    },
    {
      "cell_type": "code",
      "source": [
        "#iv.\tRead a specific line from a File\n",
        "file5 = open(\"Hello.txt\", \"r\")\n",
        "content = file5.readlines()\n",
        "print(\"Third line of the file\")\n",
        "print(content[2])"
      ],
      "metadata": {
        "id": "CfmbWUI8vwDE",
        "colab": {
          "base_uri": "https://localhost:8080/"
        },
        "outputId": "6fea827d-fd88-4b3f-bf97-d1d116315877"
      },
      "execution_count": null,
      "outputs": [
        {
          "output_type": "stream",
          "name": "stdout",
          "text": [
            "Third line of the file\n",
            "Good morning\n",
            "\n"
          ]
        }
      ]
    },
    {
      "cell_type": "markdown",
      "source": [
        "--------------------------------------"
      ],
      "metadata": {
        "id": "DQ10s8K8yIQi"
      }
    },
    {
      "cell_type": "markdown",
      "source": [
        "b.\tWrite content in a file"
      ],
      "metadata": {
        "id": "NJZB9N-WyLWI"
      }
    },
    {
      "cell_type": "code",
      "source": [
        "file6= open(\"Test.txt\", \"a\")"
      ],
      "metadata": {
        "id": "z-VWnWg8w1Ap"
      },
      "execution_count": null,
      "outputs": []
    },
    {
      "cell_type": "code",
      "source": [
        "#i.\tWrite the String ‘Hello World’ into the ‘test.txt’ file\n",
        "file6.write(\"Hello World \")"
      ],
      "metadata": {
        "colab": {
          "base_uri": "https://localhost:8080/"
        },
        "id": "gV9TmoyuyFvT",
        "outputId": "0dbd5a67-5b6a-4520-abaf-b215e8d8d908"
      },
      "execution_count": null,
      "outputs": [
        {
          "output_type": "execute_result",
          "data": {
            "text/plain": [
              "12"
            ]
          },
          "metadata": {},
          "execution_count": 61
        }
      ]
    },
    {
      "cell_type": "code",
      "source": [
        "#ii.\tWrite  “Hello World” in first line and “Hello Python” in second line\n",
        "file6.write(\"Hello World\\n\")\n",
        "file6.write(\"Hello Python\\n\")"
      ],
      "metadata": {
        "colab": {
          "base_uri": "https://localhost:8080/"
        },
        "id": "yMMBHGZeysH_",
        "outputId": "15401827-5745-4546-82b9-98aa520b8445"
      },
      "execution_count": null,
      "outputs": [
        {
          "output_type": "execute_result",
          "data": {
            "text/plain": [
              "13"
            ]
          },
          "metadata": {},
          "execution_count": 62
        }
      ]
    },
    {
      "cell_type": "code",
      "source": [
        "file7 = open(\"Test.txt\", \"r\")\n",
        "cont = file7.readlines()\n",
        "print(cont)"
      ],
      "metadata": {
        "colab": {
          "base_uri": "https://localhost:8080/"
        },
        "id": "uCbO9-QDL4Vw",
        "outputId": "f993cac3-7d09-494c-9b63-f372716361a4"
      },
      "execution_count": null,
      "outputs": [
        {
          "output_type": "stream",
          "name": "stdout",
          "text": [
            "['Hello World Hello World\\n', 'Hello Python\\n', 'applebananacherrydragonfruitgrapes']\n"
          ]
        }
      ]
    },
    {
      "cell_type": "code",
      "source": [
        "fruits = [\"apple\", \"banana\", \"cherry\", \"dragonfruit\", \"grapes\"]\n",
        "for i in fruits: file6.writelines(i)"
      ],
      "metadata": {
        "id": "6LwgxRSM18Jn"
      },
      "execution_count": null,
      "outputs": []
    },
    {
      "cell_type": "markdown",
      "source": [
        "c. Write a program to read resume  and its details"
      ],
      "metadata": {
        "id": "TZ_uxX4DOTkx"
      }
    },
    {
      "cell_type": "code",
      "source": [
        "file8 = open(\"Biodata.txt\", \"r\")\n",
        "print(file8.read())"
      ],
      "metadata": {
        "colab": {
          "base_uri": "https://localhost:8080/"
        },
        "id": "CsdbykfbKep2",
        "outputId": "fa021a0f-b10c-45b5-b4c7-ab0974ab70ba"
      },
      "execution_count": null,
      "outputs": [
        {
          "output_type": "stream",
          "name": "stdout",
          "text": [
            "Resume\n",
            "Name: Abc\n",
            "Age: 25yrs\n",
            "Qualification: Masters\n",
            "Degree: Engineering\n"
          ]
        }
      ]
    },
    {
      "cell_type": "markdown",
      "source": [
        "a.\tSearch for a sequence that starts with \"he\", followed by two (any) characters, and an \"o\""
      ],
      "metadata": {
        "id": "uuQw77kYOhhR"
      }
    },
    {
      "cell_type": "code",
      "source": [
        "txt1 = \"hello world\"\n",
        "result1 = re.search(\"he\\w\\wo\", txt1)\n",
        "print(result1.group())"
      ],
      "metadata": {
        "colab": {
          "base_uri": "https://localhost:8080/"
        },
        "id": "d4vBA5LeOLB8",
        "outputId": "9e7da69c-310a-4165-a80e-db9580ea7d9a"
      },
      "execution_count": null,
      "outputs": [
        {
          "output_type": "stream",
          "name": "stdout",
          "text": [
            "hello\n"
          ]
        }
      ]
    },
    {
      "cell_type": "markdown",
      "source": [
        "b.\tFor txt = \"The rain in Spain\" , search the string to see"
      ],
      "metadata": {
        "id": "1MOjy_OUPfvT"
      }
    },
    {
      "cell_type": "code",
      "source": [
        "txt2 = \"The rain in Spain\""
      ],
      "metadata": {
        "id": "c3zafIwhPsdP"
      },
      "execution_count": null,
      "outputs": []
    },
    {
      "cell_type": "code",
      "source": [
        "# iv.\tstarts with \"The\"\n",
        "result2 = txt2.startswith(\"The\")\n",
        "print(\"Starts with 'The':\", result2)\n",
        "\n",
        "# v. ends with \"Spain\"\n",
        "result3 = txt2.endswith(\"Spain\")\n",
        "print(\"Ends with 'Spain':\", result3)\n",
        "\n",
        "# vi. starts with \"The\" and ends with \"Spain\"\n",
        "result4 = txt2.startswith(\"The\") and txt2.endswith(\"Spain\")\n",
        "print(\"Starts with 'The' and ends with 'Spain':\", result4)\n"
      ],
      "metadata": {
        "colab": {
          "base_uri": "https://localhost:8080/"
        },
        "id": "B_ar5aN0PbjU",
        "outputId": "40b43ceb-e948-426d-d392-9de21833e9af"
      },
      "execution_count": null,
      "outputs": [
        {
          "output_type": "stream",
          "name": "stdout",
          "text": [
            "Starts with 'The': True\n",
            "Ends with 'Spain': True\n",
            "Starts with 'The' and ends with 'Spain': True\n"
          ]
        }
      ]
    },
    {
      "cell_type": "markdown",
      "source": [
        "c.\tFind all lower/Upper case characters alphabetically between \"a\" and \"m\": txt = \"The rain in Spain\""
      ],
      "metadata": {
        "id": "dPIiUd_-ROoP"
      }
    },
    {
      "cell_type": "code",
      "source": [
        "lowercase_characters = []\n",
        "uppercase_characters = []\n",
        "\n",
        "for char in txt2:\n",
        "    if char.isalpha():\n",
        "        if 'a' <= char.lower() <= 'm':\n",
        "            lowercase_characters.append(char)\n",
        "        elif 'A' <= char <= 'M':\n",
        "            uppercase_characters.append(char)\n",
        "\n",
        "print(\"Lowercase characters between 'a' and 'm':\", lowercase_characters)\n",
        "print(\"Uppercase characters between 'A' and 'M':\", uppercase_characters)\n"
      ],
      "metadata": {
        "colab": {
          "base_uri": "https://localhost:8080/"
        },
        "id": "50Ztb72KRIJx",
        "outputId": "a979ee8f-2114-4fd3-c001-d2ecfe789bd3"
      },
      "execution_count": null,
      "outputs": [
        {
          "output_type": "stream",
          "name": "stdout",
          "text": [
            "Lowercase characters between 'a' and 'm': ['h', 'e', 'a', 'i', 'i', 'a', 'i']\n",
            "Uppercase characters between 'A' and 'M': []\n"
          ]
        }
      ]
    },
    {
      "cell_type": "markdown",
      "source": [
        "d.\tSearch for the first white-space character in the string: txt = \"The rain in Spain\""
      ],
      "metadata": {
        "id": "wlf9fUykRmT-"
      }
    },
    {
      "cell_type": "code",
      "source": [
        "first_whitespace_index = txt2.index(\" \")\n",
        "print(\"Index of the first white-space character:\", first_whitespace_index)"
      ],
      "metadata": {
        "colab": {
          "base_uri": "https://localhost:8080/"
        },
        "id": "kOxBnZ6yRm88",
        "outputId": "8e874e45-39a6-48e5-9ea0-52415efc4426"
      },
      "execution_count": null,
      "outputs": [
        {
          "output_type": "stream",
          "name": "stdout",
          "text": [
            "Index of the first white-space character: 3\n"
          ]
        }
      ]
    },
    {
      "cell_type": "markdown",
      "source": [
        "e.\tReplace every white-space character with the number 9 in any given string"
      ],
      "metadata": {
        "id": "xZIprm8bRx3b"
      }
    },
    {
      "cell_type": "code",
      "source": [
        "modified_txt = txt2.replace(\" \", \"9\")\n",
        "print(\"Modified string:\", modified_txt)"
      ],
      "metadata": {
        "colab": {
          "base_uri": "https://localhost:8080/"
        },
        "id": "9vFQmuMdR0nx",
        "outputId": "a912e9e4-8347-43dd-daff-baed64f4034e"
      },
      "execution_count": null,
      "outputs": [
        {
          "output_type": "stream",
          "name": "stdout",
          "text": [
            "Modified string: The9rain9in9Spain\n"
          ]
        }
      ]
    },
    {
      "cell_type": "markdown",
      "source": [
        "f.\tCheck if an email ID is valid or not"
      ],
      "metadata": {
        "id": "-kEL85QZSQdv"
      }
    },
    {
      "cell_type": "code",
      "source": [
        "def is_valid_email(email):\n",
        "    # Regex pattern for email validation\n",
        "    pattern = r'^[\\w\\.-]+@[\\w\\.-]+\\.\\w+$'\n",
        "\n",
        "    # Use the regex pattern to match the email\n",
        "    match = re.match(pattern, email)\n",
        "\n",
        "    # Check if the match is found (valid email) or not\n",
        "    if match:\n",
        "        return True\n",
        "    else:\n",
        "        return False\n",
        "\n",
        "# Test the function with different email addresses\n",
        "email1 = \"example@example.com\"\n",
        "email2 = \"invalid_email.com\"\n",
        "\n",
        "print(\"Email 1:\", is_valid_email(email1))\n",
        "print(\"Email 2:\", is_valid_email(email2))"
      ],
      "metadata": {
        "colab": {
          "base_uri": "https://localhost:8080/"
        },
        "id": "zeqpvIkbSqii",
        "outputId": "6ff49b49-4cf2-4ace-ec58-8da83cef6cfb"
      },
      "execution_count": null,
      "outputs": [
        {
          "output_type": "stream",
          "name": "stdout",
          "text": [
            "Email 1: True\n",
            "Email 2: False\n"
          ]
        }
      ]
    }
  ]
}